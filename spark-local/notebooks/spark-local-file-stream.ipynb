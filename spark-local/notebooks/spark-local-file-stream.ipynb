{
 "cells": [
  {
   "cell_type": "markdown",
   "id": "168a1f93-0026-4c99-b8f8-462eb195f10f",
   "metadata": {},
   "source": [
    "# Spark Local & Spark Client mode \n",
    "- pyspark를 이용해 local mode로 스파크를 사용하는 샘플 코드  \n",
    "- pyspark를 이용해 cluster mode 에 client오 연결해 스파크를 사용하는 샘플 코드 \n",
    "Spark, Hadoop 를 별도로 설치하지 않고, pyspark 만을 설치한 상태에서 실행할 수 있다.  \n",
    "단, Spark 자체가 jvm에서 작동하기 때문에 JDK 는 설치되어 있어야 한다.  \n",
    "  \n",
    "주피터에서 spark 실행 시, jvm 연동이 정상적으로 되게 하기 위해서는 jupyter 실행 전에 \n",
    "미리 `JAVA_HOME`, `PATH`를 설정해 두는 것이 좋다.  \n",
    "  \n",
    "pyspark를 설치한 경우 `SPARK_HOME`은 `pyspark`를 실행할 수 있는 `bin/pyspark`(which pyspark로 확인)가 위치한 경로를 말한다.  "
   ]
  },
  {
   "cell_type": "code",
   "execution_count": 30,
   "id": "bc4db821-87b1-4b58-9ba3-a4673c091536",
   "metadata": {},
   "outputs": [
    {
     "name": "stdout",
     "output_type": "stream",
     "text": [
      "Collecting findspark\n",
      "  Downloading https://files.pythonhosted.org/packages/05/fa/811ba6926a3910d656142c6aad95fde95e4387fa9ee09202a14ab387fa1a/findspark-2.0.0-py2.py3-none-any.whl\n",
      "Installing collected packages: findspark\n",
      "Successfully installed findspark-2.0.0\n"
     ]
    }
   ],
   "source": [
    "!pip install findspark"
   ]
  },
  {
   "cell_type": "code",
   "execution_count": 2,
   "id": "972a65b0-5f52-4115-b204-e99dd0a651b6",
   "metadata": {},
   "outputs": [],
   "source": [
    "# import libraries \n",
    "import socket\n",
    "import sys\n",
    "import os\n",
    "from pyspark import SparkContext, SparkConf\n",
    "from pyspark.streaming import StreamingContext\n",
    "from pyspark.sql import Row, SparkSession\n",
    "import findspark\n",
    "import time "
   ]
  },
  {
   "cell_type": "code",
   "execution_count": 3,
   "id": "7cf55d19-49b4-47a0-9c61-eb7aece62bf0",
   "metadata": {},
   "outputs": [],
   "source": [
    "# 전역변수 설정 \n",
    "# local mode \n",
    "SPARK_LOCAL_MASTER = \"local[3]\"\n",
    "# client mode \n",
    "SPARK_CLUSTER_MASTER = \"spark://34.64.108.172:7077\" \n",
    "SPARK_APP_NAME = \"DATA-Preparation\"\n",
    "HOST_NAME = socket.gethostname()\n",
    "PORT = 9999\n",
    "\n",
    "# Define path\n",
    "DATA_ROOT = f'{os.getcwd()}/data'\n",
    "DATA_PATH = f'{DATA_ROOT}'"
   ]
  },
  {
   "cell_type": "code",
   "execution_count": 33,
   "id": "7a72405f-afc3-4d11-88b8-27b7a3d3da93",
   "metadata": {},
   "outputs": [
    {
     "name": "stdout",
     "output_type": "stream",
     "text": [
      "/tf/notebooks/notebooks/data\n",
      "spark-client\n"
     ]
    }
   ],
   "source": [
    "print(DATA_PATH)\n",
    "print(HOST_NAME)"
   ]
  },
  {
   "cell_type": "code",
   "execution_count": 34,
   "id": "a4c6d783-8ae8-4a3e-8481-958ba29b3e29",
   "metadata": {},
   "outputs": [
    {
     "name": "stdout",
     "output_type": "stream",
     "text": [
      "/usr/lib/jvm/java-8-openjdk-amd64/\n"
     ]
    }
   ],
   "source": [
    "# os.environ['JAVA_HOME'] = '/usr/lib/jvm/java-8-openjdk-amd64/'\n",
    "# os.environ['PATH'] = '/usr/local/sbin:/usr/local/bin:/usr/sbin:/usr/bin:/sbin:/bin:/usr/lib/jvm/java-8-openjdk-amd64/bin/'\n",
    "os.environ['SPARK_HOME'] = '/usr/local'\n",
    "# os.environ['HADOOP_HOME'] = '/hadoop-3.2.2'\n",
    "# os.environ['hadoop.home.dir'] = '/hadoop-3.2.2/bin'\n",
    "# os.environ['CLASSPATH'] = '$CLASSPATH:/hadoop-3.2.2/spark-3.2.0-bin-hadoop3.2.tar'\n",
    "findspark.init()\n",
    "print(os.getenv('JAVA_HOME'))"
   ]
  },
  {
   "cell_type": "code",
   "execution_count": 35,
   "id": "93cd502d-8e07-4c8d-8601-6ac459aa873b",
   "metadata": {},
   "outputs": [
    {
     "name": "stdout",
     "output_type": "stream",
     "text": [
      "JAVA_HOME : /usr/lib/jvm/java-8-openjdk-amd64/\n",
      "PATH : /usr/local/sbin:/usr/local/bin:/usr/sbin:/usr/bin:/sbin:/bin:/usr/lib/jvm/java-8-openjdk-amd64/bin/\n"
     ]
    },
    {
     "data": {
      "text/plain": [
       "'/tf/notebooks/notebooks'"
      ]
     },
     "execution_count": 35,
     "metadata": {},
     "output_type": "execute_result"
    }
   ],
   "source": [
    "print(f\"JAVA_HOME : {os.getenv('JAVA_HOME')}\")\n",
    "print(f\"PATH : {os.getenv('PATH')}\")\n",
    "os.getcwd()"
   ]
  },
  {
   "cell_type": "code",
   "execution_count": 46,
   "id": "3c1c3262-adf8-4dcf-884a-a0871b187f13",
   "metadata": {},
   "outputs": [],
   "source": [
    "# Spark session 생성 메서드 \n",
    "def init_remote_session():\n",
    "    #SPARK_CLUSTER_MASTER = \"spark://34.64.108.172:7077\" \n",
    "    spark = SparkSession.builder.master(SPARK_CLUSTER_MASTER).appName(SPARK_APP_NAME).getOrCreate()\n",
    "    return spark\n",
    "    \n",
    "# local mode 실행 시 메모리를 확장해야 하는 경우 있어서, conf에 memory 변경 추가  \n",
    "def init_local_session():\n",
    "    #SPARK_LOCAL_MASTER = \"local[3]\"\n",
    "    spark = SparkSession.builder.master(SPARK_LOCAL_MASTER).appName(SPARK_APP_NAME).config('spark.driver.host', HOST_NAME).getOrCreate()\n",
    "    default_conf = spark.sparkContext._conf#.getAll()\n",
    "    print(f'Old Conf : {default_conf.getAll()}')\n",
    "    conf = spark.sparkContext._conf.setAll([\n",
    "        ('spark.executor.instances', 1)\n",
    "        #, ('spark.driver.memory', '12g'), ('spark.executor.memory', '8g'), ('spark.driver.maxResultSize', '8g')\n",
    "        , ('spark.driver.allowMultipleContexts', 'true'), ('spark.sql.shuffle.partitions', 8)\n",
    "        ##,('spark.memory.offHeap.enabled', True), ('spark.memory.offHeap.size', '8g')\n",
    "    ])\n",
    "    spark.sparkContext.stop()\n",
    "    \n",
    "    spark = SparkSession.builder.master(SPARK_LOCAL_MASTER).appName(SPARK_APP_NAME).config(conf=default_conf).getOrCreate()\n",
    "    new_conf = spark.sparkContext._conf\n",
    "    print(f'Updated Conf : {new_conf.getAll()}')\n",
    "    return spark\n",
    "    "
   ]
  },
  {
   "cell_type": "code",
   "execution_count": 45,
   "id": "12cb1e97-b10b-4802-9412-576d43a5cb36",
   "metadata": {
    "tags": []
   },
   "outputs": [
    {
     "name": "stdout",
     "output_type": "stream",
     "text": [
      "Old Conf : [('spark.app.id', 'local-1644304597703'), ('spark.driver.host', 'spark-client'), ('spark.master', 'local[3]'), ('spark.driver.allowMultipleContexts', 'true'), ('spark.executor.id', 'driver'), ('spark.driver.port', '35777'), ('spark.app.name', 'DATA-Preparation'), ('spark.rdd.compress', 'True'), ('spark.sql.warehouse.dir', 'file:/tf/notebooks/notebooks/spark-warehouse'), ('spark.serializer.objectStreamReset', '100'), ('spark.executor.instances', '1'), ('spark.submit.pyFiles', ''), ('spark.submit.deployMode', 'client'), ('spark.sql.shuffle.partitions', '8'), ('spark.ui.showConsoleProgress', 'true'), ('spark.app.startTime', '1644304597643')]\n",
      "Updated Conf : [('spark.driver.host', 'spark-client'), ('spark.master', 'local[3]'), ('spark.driver.allowMultipleContexts', 'true'), ('spark.executor.id', 'driver'), ('spark.driver.port', '35777'), ('spark.app.startTime', '1644304684354'), ('spark.app.name', 'DATA-Preparation'), ('spark.rdd.compress', 'True'), ('spark.sql.warehouse.dir', 'file:/tf/notebooks/notebooks/spark-warehouse'), ('spark.serializer.objectStreamReset', '100'), ('spark.executor.instances', '1'), ('spark.app.id', 'local-1644304684416'), ('spark.submit.pyFiles', ''), ('spark.submit.deployMode', 'client'), ('spark.sql.shuffle.partitions', '8'), ('spark.ui.showConsoleProgress', 'true')]\n"
     ]
    },
    {
     "name": "stderr",
     "output_type": "stream",
     "text": [
      "/usr/local/lib/python3.6/dist-packages/pyspark/context.py:238: FutureWarning: Python 3.6 support is deprecated in Spark 3.2.\n",
      "  FutureWarning\n"
     ]
    },
    {
     "data": {
      "text/html": [
       "\n",
       "        <div>\n",
       "            <p><b>SparkContext</b></p>\n",
       "\n",
       "            <p><a href=\"http://spark-client:4040\">Spark UI</a></p>\n",
       "\n",
       "            <dl>\n",
       "              <dt>Version</dt>\n",
       "                <dd><code>v3.2.0</code></dd>\n",
       "              <dt>Master</dt>\n",
       "                <dd><code>local[3]</code></dd>\n",
       "              <dt>AppName</dt>\n",
       "                <dd><code>DATA-Preparation</code></dd>\n",
       "            </dl>\n",
       "        </div>\n",
       "        "
      ],
      "text/plain": [
       "<SparkContext master=local[3] appName=DATA-Preparation>"
      ]
     },
     "execution_count": 45,
     "metadata": {},
     "output_type": "execute_result"
    }
   ],
   "source": [
    "# 스파크 생성 \n",
    "spark = init_local_session()\n",
    "sc = spark.sparkContext\n",
    "sc"
   ]
  },
  {
   "cell_type": "code",
   "execution_count": 13,
   "id": "06dda262-1047-4d1c-b6e9-3dcd759ffbff",
   "metadata": {
    "tags": []
   },
   "outputs": [],
   "source": [
    "# channel, day, seg, setop, 1000\n",
    "\n",
    "# setop data n 개 만들기\n",
    "def create_setops():\n",
    "    setop_count = 10000\n",
    "    setop_name = ['ST_A', 'ST_B', 'ST_C', 'ST_D', 'ST_E']\n",
    "    setops = []\n",
    "    for s in setop_name:\n",
    "        for i in range(0, int(setop_count/len(setop_name))):\n",
    "            setops.append(f'{s}_{i:03d}')\n",
    "            \n",
    "    print(setops[-10:])\n",
    "    return setops\n",
    "\n",
    "# channel, day, seg data 생성 \n",
    "def create_others():\n",
    "    # 20\n",
    "    channels = ['KBS', 'MBC', 'SBS', 'JTBC', 'CBS' ,  'OCN', 'TVN', 'TVCH', 'BTN', 'EBS',  'Arirang', 'JTV', 'GAME-TV', 'HBC', 'BBC',  'CNN', 'CNBC', 'CCN', 'NHK', 'ABC'] \n",
    "    days = ['mon', 'tue', 'wed', 'thu', 'fri', 'sat', 'sun']\n",
    "    hour_bands = ['00', '01', '10', '11', '23']\n",
    "    segs = ['Agriculture', 'Game']\n",
    "    rows = []\n",
    "    row = []\n",
    "    for c in channels:\n",
    "        for d in days:\n",
    "            for s in segs:\n",
    "                row = [c, d, s]\n",
    "                rows.append(row)\n",
    "                \n",
    "    print(rows[:5])\n",
    "    return rows\n",
    "\n",
    "def merge_to_inventory(setops, rows):\n",
    "    inven_time = 10000 # 하드코딩 시간\n",
    "    invens = []\n",
    "    for r in rows:\n",
    "        for s in setops:\n",
    "            invens.append(r + [s, inven_time])\n",
    "    print(f'Inventory Length : {len(invens):,}')\n",
    "    return invens\n",
    "\n",
    "def define_schema():\n",
    "    from pyspark.sql.types import StructType, StructField, StringType, LongType\n",
    "    columns = [\n",
    "        StructField(\"channel\", StringType())\n",
    "        , StructField(\"day\", StringType())\n",
    "        , StructField(\"seg\", StringType())\n",
    "        , StructField(\"setop\", StringType())\n",
    "        , StructField(\"remains\", LongType())\n",
    "    ]\n",
    "    inven_schema = StructType(columns)\n",
    "    return inven_schema\n",
    "\n",
    "def save_inventory(invens, spark_session=spark, file_name=f'{DATA_PATH}/inven', sample_count=10000):\n",
    "    inven_schema = define_schema()\n",
    "    if (sample_count <= 0):\n",
    "        # all data \n",
    "        rdd = spark_session.sparkContext.parallelize(invens)\n",
    "    else:\n",
    "        # sampling data\n",
    "        rdd = spark_session.sparkContext.parallelize(invens[:sample_count])\n",
    "    df = spark_session.createDataFrame(rdd, inven_schema)\n",
    "    df.write.save(path=file_name, format='csv', mode='append', sep=',')\n",
    "        "
   ]
  },
  {
   "cell_type": "code",
   "execution_count": 14,
   "id": "01fe5efd-82a3-4893-a6f1-dfe3c5881719",
   "metadata": {},
   "outputs": [
    {
     "name": "stdout",
     "output_type": "stream",
     "text": [
      "['ST_E_1990', 'ST_E_1991', 'ST_E_1992', 'ST_E_1993', 'ST_E_1994', 'ST_E_1995', 'ST_E_1996', 'ST_E_1997', 'ST_E_1998', 'ST_E_1999']\n",
      "CPU times: user 8.11 ms, sys: 0 ns, total: 8.11 ms\n",
      "Wall time: 8.41 ms\n"
     ]
    }
   ],
   "source": [
    "%%time\n",
    "setops = create_setops()"
   ]
  },
  {
   "cell_type": "code",
   "execution_count": 15,
   "id": "5cd00cb2-3971-4d50-84bc-43ca2ad91b4d",
   "metadata": {},
   "outputs": [
    {
     "name": "stdout",
     "output_type": "stream",
     "text": [
      "[['KBS', 'mon', 'Agriculture'], ['KBS', 'mon', 'Game'], ['KBS', 'tue', 'Agriculture'], ['KBS', 'tue', 'Game'], ['KBS', 'wed', 'Agriculture']]\n",
      "CPU times: user 1.63 ms, sys: 0 ns, total: 1.63 ms\n",
      "Wall time: 1.74 ms\n"
     ]
    }
   ],
   "source": [
    "%%time\n",
    "rows = create_others()"
   ]
  },
  {
   "cell_type": "code",
   "execution_count": 16,
   "id": "5f429cf9-c715-438a-8102-6b21ec669e9e",
   "metadata": {},
   "outputs": [
    {
     "name": "stdout",
     "output_type": "stream",
     "text": [
      "Inventory Length : 2,800,000\n",
      "CPU times: user 1.97 s, sys: 257 ms, total: 2.22 s\n",
      "Wall time: 2.22 s\n"
     ]
    }
   ],
   "source": [
    "%%time\n",
    "invens = merge_to_inventory(setops, rows)"
   ]
  },
  {
   "cell_type": "code",
   "execution_count": null,
   "id": "6f42b4b5-5ad8-4f63-949a-abe462888ea1",
   "metadata": {},
   "outputs": [
    {
     "name": "stdout",
     "output_type": "stream",
     "text": [
      "SAMPLING_COUNT : 10,000,000\n",
      "TABLE_NAME : /tf/notebooks/data/inven\n",
      "Inventory Length : 2,800,000\n"
     ]
    }
   ],
   "source": [
    "# invens data 파일로 저장하기 \n",
    "SAMPLING_COUNT = int(1e7)\n",
    "TABLE_NAME = f'{DATA_PATH}/inven'\n",
    "\n",
    "print(f'SAMPLING_COUNT : {SAMPLING_COUNT:,}')\n",
    "print(f'TABLE_NAME : {TABLE_NAME}')\n",
    "print(f'Inventory Length : {len(invens):,}')\n",
    "      \n",
    "save_inventory(invens, spark, TABLE_NAME, SAMPLING_COUNT)"
   ]
  },
  {
   "cell_type": "code",
   "execution_count": null,
   "id": "6ec032c3-c1b4-4b9c-a9a5-10573125f4e9",
   "metadata": {},
   "outputs": [],
   "source": [
    "# 저장 결과 확인하기 \n",
    "lines = spark.read.format('csv').schema(define_schema()).option('path', TABLE_NAME).load()\n",
    "data_count = lines.count()\n",
    "print(f'DATA Count : {data_count:,}')\n",
    "lines.show(5)"
   ]
  },
  {
   "cell_type": "code",
   "execution_count": null,
   "id": "0289ac29-b2ab-4d73-9416-f65cdcc8e832",
   "metadata": {},
   "outputs": [],
   "source": [
    "# ch 별로 setop 번호 순서 5개씩 보여주기\n",
    "from pyspark.sql.window import Window\n",
    "from pyspark.sql.functions import col, row_number \n",
    "\n",
    "windowPart = Window.partitionBy('channel').orderBy(col('setop').desc())\n",
    "lines = spark.read.format('csv').schema(define_schema()).option('path', TABLE_NAME).load()\n",
    "df2 = lines.withColumn('row', row_number().over(windowPart)).filter('row') <= 5)\n",
    "df2.show(50)"
   ]
  },
  {
   "cell_type": "code",
   "execution_count": null,
   "id": "ff12be67-7635-4146-ac92-41787237a108",
   "metadata": {},
   "outputs": [],
   "source": []
  },
  {
   "cell_type": "code",
   "execution_count": null,
   "id": "3d27ef78-2050-4da9-9d6e-54f14bb40f0f",
   "metadata": {},
   "outputs": [],
   "source": []
  },
  {
   "cell_type": "code",
   "execution_count": null,
   "id": "6fa7d5bf-2011-4353-aa40-6e3c342635f8",
   "metadata": {},
   "outputs": [],
   "source": []
  }
 ],
 "metadata": {
  "kernelspec": {
   "display_name": "Python 3",
   "language": "python",
   "name": "python3"
  },
  "language_info": {
   "codemirror_mode": {
    "name": "ipython",
    "version": 3
   },
   "file_extension": ".py",
   "mimetype": "text/x-python",
   "name": "python",
   "nbconvert_exporter": "python",
   "pygments_lexer": "ipython3",
   "version": "3.6.9"
  }
 },
 "nbformat": 4,
 "nbformat_minor": 5
}
