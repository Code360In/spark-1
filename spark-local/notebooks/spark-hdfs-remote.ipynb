{
 "cells": [
  {
   "cell_type": "markdown",
   "id": "1a1436e2-35dd-400b-86a3-fc5c2558fa36",
   "metadata": {},
   "source": [
    "# Hdfs remote connect "
   ]
  },
  {
   "cell_type": "code",
   "execution_count": 1,
   "id": "06e3bb66-536c-4de4-9127-af54960d5454",
   "metadata": {},
   "outputs": [
    {
     "name": "stdout",
     "output_type": "stream",
     "text": [
      "Requirement already satisfied: pyspark in /usr/local/lib/python3.6/dist-packages\n",
      "Requirement already satisfied: py4j==0.10.9.3 in /usr/local/lib/python3.6/dist-packages (from pyspark)\n"
     ]
    }
   ],
   "source": [
    "#!pip install pyspark\n",
    "# pyspark가 설치된 경로를 확인해서 SPARK_HOME 설정 "
   ]
  },
  {
   "cell_type": "code",
   "execution_count": 1,
   "id": "a582b451-4c10-4bc6-8dc2-30f25d11af81",
   "metadata": {},
   "outputs": [],
   "source": [
    "# !pip install findspark\n",
    "# !pwd"
   ]
  },
  {
   "cell_type": "code",
   "execution_count": 1,
   "id": "e555d5d7-0e20-46df-a5bc-a8c35d30bbd1",
   "metadata": {},
   "outputs": [],
   "source": [
    "# import libraries \n",
    "import socket\n",
    "import sys\n",
    "import os\n",
    "from pyspark import SparkContext, SparkConf\n",
    "from pyspark.streaming import StreamingContext\n",
    "from pyspark.sql import Row, SparkSession\n",
    "#import findspark\n",
    "import time "
   ]
  },
  {
   "cell_type": "code",
   "execution_count": 2,
   "id": "b38b5d68-823a-4172-8647-2905165191d9",
   "metadata": {},
   "outputs": [],
   "source": [
    "# 전역변수 설정 \n",
    "# local mode \n",
    "SPARK_LOCAL_MASTER = \"local[3]\"\n",
    "# client mode \n",
    "SPARK_CLUSTER_MASTER = \"spark://34.125.237.158/:7077\" \n",
    "SPARK_APP_NAME = \"DATA-Preparation\"\n",
    "HOST_NAME = socket.gethostname()\n",
    "PORT = 9999\n",
    "\n",
    "# Define path\n",
    "DATA_ROOT = f'{os.getcwd()}/data'\n",
    "DATA_PATH = f'{DATA_ROOT}'"
   ]
  },
  {
   "cell_type": "code",
   "execution_count": 3,
   "id": "658fcebc-e634-4c6b-964b-d996d4ea1306",
   "metadata": {},
   "outputs": [
    {
     "name": "stdout",
     "output_type": "stream",
     "text": [
      "/usr/lib/jvm/java-8-openjdk-amd64/\n",
      "/usr/local/lib/python3.6/dist-packages/pyspark\n"
     ]
    }
   ],
   "source": [
    "#os.environ['JAVA_HOME'] = '/usr/lib/jvm/java-8-openjdk-amd64/'\n",
    "# os.environ['PATH'] = '/usr/local/sbin:/usr/local/bin:/usr/sbin:/usr/bin:/sbin:/bin:/usr/lib/jvm/java-8-openjdk-amd64/bin/'\n",
    "#os.environ['SPARK_HOME'] = '/usr/local'\n",
    "#os.environ['SPARK_HOME']='/usr/local/lib/python3.6/dist-packages/pyspark'\n",
    "# os.environ['HADOOP_HOME'] = '/hadoop-3.2.2'\n",
    "# os.environ['hadoop.home.dir'] = '/hadoop-3.2.2/bin'\n",
    "# os.environ['CLASSPATH'] = '$CLASSPATH:/hadoop-3.2.2/spark-3.2.0-bin-hadoop3.2.tar'\n",
    "#findspark.init()\n",
    "print(os.getenv('JAVA_HOME'))\n",
    "print(os.getenv('SPARK_HOME'))"
   ]
  },
  {
   "cell_type": "code",
   "execution_count": 5,
   "id": "267450f6-1b75-4726-8869-54dc61c8c72a",
   "metadata": {},
   "outputs": [
    {
     "name": "stdout",
     "output_type": "stream",
     "text": [
      "/usr/local/sbin:/usr/local/bin:/usr/sbin:/usr/bin:/sbin:/bin:/usr/lib/jvm/java-8-openjdk-amd64/bin/\n"
     ]
    }
   ],
   "source": [
    "print(os.getenv('PATH'))\n",
    "#findspark"
   ]
  },
  {
   "cell_type": "code",
   "execution_count": 4,
   "id": "7a42013b-ee43-4cc1-b0f2-b9fcdd037801",
   "metadata": {},
   "outputs": [],
   "source": [
    "# Spark session 생성 메서드 \n",
    "def init_remote_session():\n",
    "    #SPARK_CLUSTER_MASTER = \"spark://34.64.108.172:7077\" \n",
    "    spark = SparkSession.builder.master(SPARK_CLUSTER_MASTER).appName(SPARK_APP_NAME).getOrCreate()\n",
    "    return spark\n",
    "    \n",
    "# local mode 실행 시 메모리를 확장해야 하는 경우 있어서, conf에 memory 변경 추가  \n",
    "def init_local_session():\n",
    "    #SPARK_LOCAL_MASTER = \"local[3]\"\n",
    "    spark = SparkSession.builder.master(SPARK_LOCAL_MASTER).appName(SPARK_APP_NAME).getOrCreate()\n",
    "    default_conf = spark.sparkContext._conf#.getAll()\n",
    "    print(f'Old Conf : {default_conf.getAll()}')\n",
    "    conf = spark.sparkContext._conf.setAll([\n",
    "        ('spark.executor.instances', 1)\n",
    "        #, ('spark.driver.memory', '12g'), ('spark.executor.memory', '8g'), ('spark.driver.maxResultSize', '8g')\n",
    "        , ('spark.driver.allowMultipleContexts', 'true'), ('spark.sql.shuffle.partitions', 8)\n",
    "        ##,('spark.memory.offHeap.enabled', True), ('spark.memory.offHeap.size', '8g')\n",
    "    ])\n",
    "    spark.sparkContext.stop()\n",
    "    \n",
    "    spark = SparkSession.builder.master(SPARK_LOCAL_MASTER).appName(SPARK_APP_NAME).config(conf=default_conf).getOrCreate()\n",
    "    new_conf = spark.sparkContext._conf\n",
    "    print(f'Updated Conf : {new_conf.getAll()}')\n",
    "    return spark"
   ]
  },
  {
   "cell_type": "code",
   "execution_count": 7,
   "id": "6d623878-4c1b-4466-9c20-0285756c191f",
   "metadata": {},
   "outputs": [
    {
     "name": "stdout",
     "output_type": "stream",
     "text": [
      "openjdk version \"1.8.0_312\"\n",
      "OpenJDK Runtime Environment (build 1.8.0_312-8u312-b07-0ubuntu1~18.04-b07)\n",
      "OpenJDK 64-Bit Server VM (build 25.312-b07, mixed mode)\n"
     ]
    }
   ],
   "source": [
    "!java -version"
   ]
  },
  {
   "cell_type": "code",
   "execution_count": 5,
   "id": "c98160a5-aa89-4558-bd5c-fb1cc89f503a",
   "metadata": {},
   "outputs": [
    {
     "name": "stderr",
     "output_type": "stream",
     "text": [
      "/usr/local/lib/python3.6/dist-packages/pyspark/context.py:238: FutureWarning: Python 3.6 support is deprecated in Spark 3.2.\n",
      "  FutureWarning\n"
     ]
    },
    {
     "name": "stdout",
     "output_type": "stream",
     "text": [
      "Old Conf : [('spark.sql.warehouse.dir', 'file:/notebooks/spark-warehouse'), ('spark.app.name', 'DATA-Preparation'), ('spark.driver.port', '35905'), ('spark.rdd.compress', 'True'), ('spark.driver.host', 'spark-client'), ('spark.master', 'local[3]'), ('spark.serializer.objectStreamReset', '100'), ('spark.submit.pyFiles', ''), ('spark.executor.id', 'driver'), ('spark.app.startTime', '1644819333814'), ('spark.submit.deployMode', 'client'), ('spark.app.id', 'local-1644819335016'), ('spark.ui.showConsoleProgress', 'true')]\n",
      "Updated Conf : [('spark.sql.warehouse.dir', 'file:/notebooks/spark-warehouse'), ('spark.driver.host', 'spark-client'), ('spark.master', 'local[3]'), ('spark.app.id', 'local-1644819336989'), ('spark.driver.allowMultipleContexts', 'true'), ('spark.executor.id', 'driver'), ('spark.app.name', 'DATA-Preparation'), ('spark.driver.port', '35905'), ('spark.rdd.compress', 'True'), ('spark.app.startTime', '1644819336908'), ('spark.serializer.objectStreamReset', '100'), ('spark.executor.instances', '1'), ('spark.submit.pyFiles', ''), ('spark.submit.deployMode', 'client'), ('spark.sql.shuffle.partitions', '8'), ('spark.ui.showConsoleProgress', 'true')]\n"
     ]
    },
    {
     "name": "stderr",
     "output_type": "stream",
     "text": [
      "/usr/local/lib/python3.6/dist-packages/pyspark/context.py:238: FutureWarning: Python 3.6 support is deprecated in Spark 3.2.\n",
      "  FutureWarning\n"
     ]
    },
    {
     "data": {
      "text/html": [
       "\n",
       "        <div>\n",
       "            <p><b>SparkContext</b></p>\n",
       "\n",
       "            <p><a href=\"http://spark-client:4040\">Spark UI</a></p>\n",
       "\n",
       "            <dl>\n",
       "              <dt>Version</dt>\n",
       "                <dd><code>v3.2.1</code></dd>\n",
       "              <dt>Master</dt>\n",
       "                <dd><code>local[3]</code></dd>\n",
       "              <dt>AppName</dt>\n",
       "                <dd><code>DATA-Preparation</code></dd>\n",
       "            </dl>\n",
       "        </div>\n",
       "        "
      ],
      "text/plain": [
       "<SparkContext master=local[3] appName=DATA-Preparation>"
      ]
     },
     "execution_count": 5,
     "metadata": {},
     "output_type": "execute_result"
    }
   ],
   "source": [
    "# 스파크 생성 \n",
    "spark = init_local_session()\n",
    "# 스파크 클러스터를 실행해 두었다고 가정\n",
    "#spark = init_remote_session()\n",
    "sc = spark.sparkContext\n",
    "sc"
   ]
  },
  {
   "cell_type": "markdown",
   "id": "cb4682b3-7b4b-492a-8441-e3379febcf17",
   "metadata": {},
   "source": [
    "# HDFS Run\n",
    "Spark Driver와 다른 위치에서 Hadoop cluster를 실행하고, 이를 연결해서 사용해 본다.  \n",
    "172.17.0.3:9000 에 Hadoop 머신을 실행해 둔다.  "
   ]
  },
  {
   "cell_type": "code",
   "execution_count": 10,
   "id": "09c65bd6-d0b9-4bf5-9de6-f6de9fe5b120",
   "metadata": {},
   "outputs": [
    {
     "name": "stdout",
     "output_type": "stream",
     "text": [
      "+-----+\n",
      "|value|\n",
      "+-----+\n",
      "+-----+\n",
      "\n"
     ]
    }
   ],
   "source": [
    "spark.read.text(\"hdfs://172.17.0.3:9000/user/root/input\").show()"
   ]
  },
  {
   "cell_type": "markdown",
   "id": "93a4859d-4e0c-419d-9757-add92f26fb5e",
   "metadata": {},
   "source": [
    "위에서 hdfs 원격 read 작동을 확인하면, 샘플 데이터를 생성해 hdfs에 기록하고 읽어본다.  "
   ]
  },
  {
   "cell_type": "code",
   "execution_count": 11,
   "id": "e7d0351f-64eb-4cdb-b4e7-5d29d6d52973",
   "metadata": {},
   "outputs": [],
   "source": [
    "# channel, day, seg, setop, 1000\n",
    "FILE_FORMAT = 'parquet'\n",
    "#FILE_FORMAT = 'csv'\n",
    "\n",
    "# setop data n 개 만들기\n",
    "def create_setops():\n",
    "    setop_count = 10000\n",
    "    setop_name = ['ST_A', 'ST_B', 'ST_C', 'ST_D', 'ST_E']\n",
    "    setops = []\n",
    "    for s in setop_name:\n",
    "        for i in range(0, int(setop_count/len(setop_name))):\n",
    "            setops.append(f'{s}_{i:03d}')\n",
    "            \n",
    "    print(setops[-10:])\n",
    "    return setops\n",
    "\n",
    "# channel, day, seg data 생성 \n",
    "def create_others():\n",
    "    # 20\n",
    "    channels = ['KBS', 'MBC', 'SBS', 'JTBC', 'CBS' ,  'OCN', 'TVN', 'TVCH', 'BTN', 'EBS',  'Arirang', 'JTV', 'GAME-TV', 'HBC', 'BBC',  'CNN', 'CNBC', 'CCN', 'NHK', 'ABC'] \n",
    "    days = ['mon', 'tue', 'wed', 'thu', 'fri', 'sat', 'sun']\n",
    "    hour_bands = ['00', '01', '10', '11', '23']\n",
    "    segs = ['Agriculture', 'Game']\n",
    "    rows = []\n",
    "    row = []\n",
    "    for c in channels:\n",
    "        for d in days:\n",
    "            for s in segs:\n",
    "                row = [c, d, s]\n",
    "                rows.append(row)\n",
    "                \n",
    "    print(rows[:5])\n",
    "    return rows\n",
    "\n",
    "def merge_to_inventory(setops, rows):\n",
    "    inven_time = 10000 # 하드코딩 시간\n",
    "    invens = []\n",
    "    for r in rows:\n",
    "        for s in setops:\n",
    "            invens.append(r + [s, inven_time])\n",
    "    print(f'Inventory Length : {len(invens):,}')\n",
    "    return invens\n",
    "\n",
    "def define_schema():\n",
    "    from pyspark.sql.types import StructType, StructField, StringType, LongType\n",
    "    columns = [\n",
    "        StructField(\"channel\", StringType())\n",
    "        , StructField(\"day\", StringType())\n",
    "        , StructField(\"seg\", StringType())\n",
    "        , StructField(\"setop\", StringType())\n",
    "        , StructField(\"remains\", LongType())\n",
    "    ]\n",
    "    inven_schema = StructType(columns)\n",
    "    return inven_schema\n",
    "\n",
    "def save_inventory(invens, spark_session=spark, file_name=f'{DATA_PATH}/inven', sample_count=10000):\n",
    "    inven_schema = define_schema()\n",
    "    if (sample_count <= 0):\n",
    "        # all data \n",
    "        rdd = spark_session.sparkContext.parallelize(invens)\n",
    "    else:\n",
    "        # sampling data\n",
    "        rdd = spark_session.sparkContext.parallelize(invens[:sample_count])\n",
    "    df = spark_session.createDataFrame(rdd, inven_schema)\n",
    "    #df.write.save(path=file_name, format='csv', mode='append', sep=',')\n",
    "    df.write.save(path=file_name, format=FILE_FORMAT, mode='append', sep=',')\n",
    "        "
   ]
  },
  {
   "cell_type": "code",
   "execution_count": 12,
   "id": "845c82f2-305e-463f-9031-eb2b482df33b",
   "metadata": {},
   "outputs": [
    {
     "name": "stdout",
     "output_type": "stream",
     "text": [
      "['ST_E_1990', 'ST_E_1991', 'ST_E_1992', 'ST_E_1993', 'ST_E_1994', 'ST_E_1995', 'ST_E_1996', 'ST_E_1997', 'ST_E_1998', 'ST_E_1999']\n",
      "[['KBS', 'mon', 'Agriculture'], ['KBS', 'mon', 'Game'], ['KBS', 'tue', 'Agriculture'], ['KBS', 'tue', 'Game'], ['KBS', 'wed', 'Agriculture']]\n",
      "Inventory Length : 2,800,000\n",
      "CPU times: user 1.71 s, sys: 184 ms, total: 1.9 s\n",
      "Wall time: 1.89 s\n"
     ]
    }
   ],
   "source": [
    "%%time\n",
    "setops = create_setops()\n",
    "rows = create_others()\n",
    "invens = merge_to_inventory(setops, rows)"
   ]
  },
  {
   "cell_type": "code",
   "execution_count": 15,
   "id": "9c96c9e5-1600-4e22-a923-45d6df44f60b",
   "metadata": {},
   "outputs": [
    {
     "name": "stdout",
     "output_type": "stream",
     "text": [
      "SAMPLING_COUNT : 10,000,000\n",
      "TABLE_NAME : hdfs://172.17.0.3:9000/user/root/inven\n",
      "Inventory Length : 2,800,000\n",
      "CPU times: user 1.04 s, sys: 94.1 ms, total: 1.14 s\n",
      "Wall time: 8.3 s\n"
     ]
    }
   ],
   "source": [
    "%%time\n",
    "# invens data 파일로 저장하기 \n",
    "# gcp vm local : 12 s. csv - 90 MB, parq - 4.5 MB, 280만 rows \n",
    "SAMPLING_COUNT = int(1e7)\n",
    "TABLE_NAME = 'hdfs://172.17.0.3:9000/user/root/inven'\n",
    "# need file permission  \n",
    "#TABLE_NAME = f'file:///home'\n",
    "\n",
    "print(f'SAMPLING_COUNT : {SAMPLING_COUNT:,}')\n",
    "print(f'TABLE_NAME : {TABLE_NAME}')\n",
    "print(f'Inventory Length : {len(invens):,}')\n",
    "      \n",
    "save_inventory(invens, spark, TABLE_NAME, SAMPLING_COUNT)"
   ]
  },
  {
   "cell_type": "code",
   "execution_count": 16,
   "id": "35ed603b-6214-4441-a5ca-0b495bbc92e7",
   "metadata": {},
   "outputs": [
    {
     "name": "stdout",
     "output_type": "stream",
     "text": [
      "+--------------------+\n",
      "|               value|\n",
      "+--------------------+\n",
      "|     PAR1\u0015\u0004\u0015�\u0001\u0015z\u0015鐨�|\n",
      "|<\u0015\u0010\u0015\u0004\u0000\u0000A\u001c",
      "\u0003\u0000\u0000\u0000TVN\u0004...|\n",
      "|0\u0004\u0000\u0000\u0000��\u0002\u0001\u0001��\u0002\u0001\u0015\u0000\u0015...|\n",
      "|0\u0004\u0000\u0000\u0000��\u0002\u0001\u0001��\u0002\u0001\u0015\u0000\u0015...|\n",
      "|0\u0004\u0000\u0000\u0000��\u0002\u0001\u0001��\u0002\u0001\u0015\u0000\u0015...|\n",
      "+--------------------+\n",
      "only showing top 5 rows\n",
      "\n"
     ]
    }
   ],
   "source": [
    "spark.read.text(TABLE_NAME).show(5)"
   ]
  },
  {
   "cell_type": "code",
   "execution_count": null,
   "id": "68501994-c1cf-4d09-9ba0-f01af2ab479f",
   "metadata": {},
   "outputs": [],
   "source": []
  }
 ],
 "metadata": {
  "kernelspec": {
   "display_name": "Python 3",
   "language": "python",
   "name": "python3"
  },
  "language_info": {
   "codemirror_mode": {
    "name": "ipython",
    "version": 3
   },
   "file_extension": ".py",
   "mimetype": "text/x-python",
   "name": "python",
   "nbconvert_exporter": "python",
   "pygments_lexer": "ipython3",
   "version": "3.6.9"
  }
 },
 "nbformat": 4,
 "nbformat_minor": 5
}
