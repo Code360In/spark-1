{
 "cells": [
  {
   "cell_type": "markdown",
   "id": "f9dd22d2-773b-4bf1-9528-21ffc3d2ac23",
   "metadata": {},
   "source": [
    "# csv hdfs 읽고 쓰기  \n",
    "spark을 이용해 rdd로 샘플 데이터를 생성하고, 이를 hdfs 에 csv 파일로 기록한다.  \n",
    "기록에 성공하면, 반대로 csv file을 spark에서 data로 읽어 들여 사용해 본다.  "
   ]
  },
  {
   "cell_type": "code",
   "execution_count": 1,
   "id": "1834a108-e05f-4c7c-8174-50997b493f44",
   "metadata": {},
   "outputs": [],
   "source": [
    "import socket\n",
    "import sys\n",
    "import os\n",
    "from pyspark import SparkContext, SparkConf\n",
    "from pyspark.streaming import StreamingContext\n",
    "from pyspark.sql import Row, SparkSession\n",
    "from os.path import abspath\n",
    "import findspark\n",
    "import time "
   ]
  },
  {
   "cell_type": "code",
   "execution_count": 2,
   "id": "424b6ba1-46b9-4c15-b3d7-cf0ce19b3156",
   "metadata": {},
   "outputs": [
    {
     "name": "stderr",
     "output_type": "stream",
     "text": [
      "/usr/local/lib/python3.6/dist-packages/pyspark/context.py:238: FutureWarning: Python 3.6 support is deprecated in Spark 3.2.\n",
      "  FutureWarning\n"
     ]
    },
    {
     "data": {
      "text/html": [
       "\n",
       "        <div>\n",
       "            <p><b>SparkContext</b></p>\n",
       "\n",
       "            <p><a href=\"http://spark-master:4041\">Spark UI</a></p>\n",
       "\n",
       "            <dl>\n",
       "              <dt>Version</dt>\n",
       "                <dd><code>v3.1.3</code></dd>\n",
       "              <dt>Master</dt>\n",
       "                <dd><code>yarn</code></dd>\n",
       "              <dt>AppName</dt>\n",
       "                <dd><code>Data_Sources</code></dd>\n",
       "            </dl>\n",
       "        </div>\n",
       "        "
      ],
      "text/plain": [
       "<SparkContext master=yarn appName=Data_Sources>"
      ]
     },
     "execution_count": 2,
     "metadata": {},
     "output_type": "execute_result"
    }
   ],
   "source": [
    "# 스파크 생성 \n",
    "spark = SparkSession.builder.master('yarn').appName('Data_Sources')\\\n",
    "    .config(\"spark.sql.warehouse.dir\", '/user/root/inven')\\\n",
    "    .getOrCreate()\n",
    "\n",
    "sc = spark.sparkContext\n",
    "sc"
   ]
  },
  {
   "cell_type": "code",
   "execution_count": null,
   "id": "2658d658-e9c0-48bc-b5b0-24c1e3b1a93c",
   "metadata": {},
   "outputs": [],
   "source": []
  },
  {
   "cell_type": "code",
   "execution_count": 10,
   "id": "4a9dca10-14f3-4e2d-a90b-748bf8e83029",
   "metadata": {},
   "outputs": [],
   "source": [
    "# 샘플 데이터 생성 \n",
    "def create_setops():\n",
    "    setop_count = 10000\n",
    "    setop_name = ['ST_A', 'ST_B', 'ST_C', 'ST_D', 'ST_E']\n",
    "    setops = []\n",
    "    for s in setop_name:\n",
    "        for i in range(0, int(setop_count/len(setop_name))):\n",
    "            setops.append([f'{s}_{i:03d}', setop_count])\n",
    "            \n",
    "    print(setops[-10:])\n",
    "    return setops\n",
    "# 샘플 데이터 형식 정의. 읽기/쓰기 편의 제공. \n",
    "def define_schema():\n",
    "    from pyspark.sql.types import StructType, StructField, StringType, LongType\n",
    "    columns = [\n",
    "        StructField(\"setop\", StringType())\n",
    "        , StructField(\"remains\", LongType())\n",
    "    ]\n",
    "    sample_schema = StructType(columns)\n",
    "    return sample_schema"
   ]
  },
  {
   "cell_type": "code",
   "execution_count": 11,
   "id": "40e4dc54-f096-424d-8b2f-e35e829dc268",
   "metadata": {},
   "outputs": [
    {
     "name": "stdout",
     "output_type": "stream",
     "text": [
      "[['ST_E_1990', 10000], ['ST_E_1991', 10000], ['ST_E_1992', 10000], ['ST_E_1993', 10000], ['ST_E_1994', 10000], ['ST_E_1995', 10000], ['ST_E_1996', 10000], ['ST_E_1997', 10000], ['ST_E_1998', 10000], ['ST_E_1999', 10000]]\n",
      "+--------+-------+\n",
      "|   setop|remains|\n",
      "+--------+-------+\n",
      "|ST_A_000|  10000|\n",
      "|ST_A_001|  10000|\n",
      "|ST_A_002|  10000|\n",
      "|ST_A_003|  10000|\n",
      "|ST_A_004|  10000|\n",
      "|ST_A_005|  10000|\n",
      "|ST_A_006|  10000|\n",
      "|ST_A_007|  10000|\n",
      "|ST_A_008|  10000|\n",
      "|ST_A_009|  10000|\n",
      "+--------+-------+\n",
      "only showing top 10 rows\n",
      "\n"
     ]
    }
   ],
   "source": [
    "# 샘플 데이터 생성 및 확인 \n",
    "sample_data = create_setops()\n",
    "sample_schema = define_schema()\n",
    "rdd = spark.sparkContext.parallelize(sample_data)\n",
    "df = spark.createDataFrame(rdd, sample_schema)\n",
    "df.show(10)\n"
   ]
  },
  {
   "cell_type": "code",
   "execution_count": 12,
   "id": "6f7311fc-784b-4c3a-81ca-ac1ae8708c40",
   "metadata": {},
   "outputs": [],
   "source": [
    "# HDFS 에 /user/root/inven/setop 폴더와 파일이 생성 됨.  \n",
    "df.write.save(path='inven/setop', format='csv', mode='append', sep=',')"
   ]
  },
  {
   "cell_type": "code",
   "execution_count": 14,
   "id": "eb400f4a-f148-455d-a8b1-28a53759816e",
   "metadata": {},
   "outputs": [
    {
     "name": "stdout",
     "output_type": "stream",
     "text": [
      "DATA Count : 10,000\n",
      "+--------+-----+\n",
      "|     _c0|  _c1|\n",
      "+--------+-----+\n",
      "|ST_A_000|10000|\n",
      "|ST_A_001|10000|\n",
      "|ST_A_002|10000|\n",
      "|ST_A_003|10000|\n",
      "|ST_A_004|10000|\n",
      "+--------+-----+\n",
      "only showing top 5 rows\n",
      "\n",
      "CPU times: user 3.95 ms, sys: 812 µs, total: 4.76 ms\n",
      "Wall time: 842 ms\n"
     ]
    }
   ],
   "source": [
    "%%time \n",
    "# 기록한 파일 다시 읽어 들이기 \n",
    "# 저장 결과 확인하기 \n",
    "lines = spark.read.format(\"csv\").option('path', \"inven/setop\").load()\n",
    "data_count = lines.count()\n",
    "print(f'DATA Count : {data_count:,}')\n",
    "lines.show(5)"
   ]
  },
  {
   "cell_type": "code",
   "execution_count": 15,
   "id": "c7957178-d027-4d99-8214-7aa52b4bd455",
   "metadata": {},
   "outputs": [],
   "source": [
    "spark.stop()"
   ]
  }
 ],
 "metadata": {
  "kernelspec": {
   "display_name": "Python 3",
   "language": "python",
   "name": "python3"
  },
  "language_info": {
   "codemirror_mode": {
    "name": "ipython",
    "version": 3
   },
   "file_extension": ".py",
   "mimetype": "text/x-python",
   "name": "python",
   "nbconvert_exporter": "python",
   "pygments_lexer": "ipython3",
   "version": "3.6.9"
  }
 },
 "nbformat": 4,
 "nbformat_minor": 5
}
